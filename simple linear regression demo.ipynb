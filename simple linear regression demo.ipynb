{
 "cells": [
  {
   "cell_type": "markdown",
   "metadata": {},
   "source": [
    "# 🗃️ Importing necessary modules"
   ]
  },
  {
   "cell_type": "markdown",
   "metadata": {},
   "source": [
    "For this demonstration, we'll only use Numpy, Pandas and MatPlotLib."
   ]
  },
  {
   "cell_type": "code",
   "execution_count": 2,
   "metadata": {},
   "outputs": [],
   "source": [
    "import numpy as np\n",
    "import pandas as pd\n",
    "import matplotlib.pyplot as plt"
   ]
  },
  {
   "cell_type": "markdown",
   "metadata": {},
   "source": [
    "# 📃Preparing and visualizing the data"
   ]
  },
  {
   "cell_type": "markdown",
   "metadata": {},
   "source": [
    "CC: https://www.kaggle.com/datasets/devzohaib/tvmarketingcsv"
   ]
  },
  {
   "cell_type": "code",
   "execution_count": 3,
   "metadata": {},
   "outputs": [
    {
     "data": {
      "text/html": [
       "<div>\n",
       "<style scoped>\n",
       "    .dataframe tbody tr th:only-of-type {\n",
       "        vertical-align: middle;\n",
       "    }\n",
       "\n",
       "    .dataframe tbody tr th {\n",
       "        vertical-align: top;\n",
       "    }\n",
       "\n",
       "    .dataframe thead th {\n",
       "        text-align: right;\n",
       "    }\n",
       "</style>\n",
       "<table border=\"1\" class=\"dataframe\">\n",
       "  <thead>\n",
       "    <tr style=\"text-align: right;\">\n",
       "      <th></th>\n",
       "      <th>TV</th>\n",
       "      <th>Sales</th>\n",
       "    </tr>\n",
       "  </thead>\n",
       "  <tbody>\n",
       "    <tr>\n",
       "      <th>0</th>\n",
       "      <td>230.1</td>\n",
       "      <td>22.1</td>\n",
       "    </tr>\n",
       "    <tr>\n",
       "      <th>1</th>\n",
       "      <td>44.5</td>\n",
       "      <td>10.4</td>\n",
       "    </tr>\n",
       "    <tr>\n",
       "      <th>2</th>\n",
       "      <td>17.2</td>\n",
       "      <td>9.3</td>\n",
       "    </tr>\n",
       "    <tr>\n",
       "      <th>3</th>\n",
       "      <td>151.5</td>\n",
       "      <td>18.5</td>\n",
       "    </tr>\n",
       "    <tr>\n",
       "      <th>4</th>\n",
       "      <td>180.8</td>\n",
       "      <td>12.9</td>\n",
       "    </tr>\n",
       "    <tr>\n",
       "      <th>...</th>\n",
       "      <td>...</td>\n",
       "      <td>...</td>\n",
       "    </tr>\n",
       "    <tr>\n",
       "      <th>195</th>\n",
       "      <td>38.2</td>\n",
       "      <td>7.6</td>\n",
       "    </tr>\n",
       "    <tr>\n",
       "      <th>196</th>\n",
       "      <td>94.2</td>\n",
       "      <td>9.7</td>\n",
       "    </tr>\n",
       "    <tr>\n",
       "      <th>197</th>\n",
       "      <td>177.0</td>\n",
       "      <td>12.8</td>\n",
       "    </tr>\n",
       "    <tr>\n",
       "      <th>198</th>\n",
       "      <td>283.6</td>\n",
       "      <td>25.5</td>\n",
       "    </tr>\n",
       "    <tr>\n",
       "      <th>199</th>\n",
       "      <td>232.1</td>\n",
       "      <td>13.4</td>\n",
       "    </tr>\n",
       "  </tbody>\n",
       "</table>\n",
       "<p>200 rows × 2 columns</p>\n",
       "</div>"
      ],
      "text/plain": [
       "        TV  Sales\n",
       "0    230.1   22.1\n",
       "1     44.5   10.4\n",
       "2     17.2    9.3\n",
       "3    151.5   18.5\n",
       "4    180.8   12.9\n",
       "..     ...    ...\n",
       "195   38.2    7.6\n",
       "196   94.2    9.7\n",
       "197  177.0   12.8\n",
       "198  283.6   25.5\n",
       "199  232.1   13.4\n",
       "\n",
       "[200 rows x 2 columns]"
      ]
     },
     "execution_count": 3,
     "metadata": {},
     "output_type": "execute_result"
    }
   ],
   "source": [
    "df = pd.read_csv(\"tvmarketing.csv\")\n",
    "df"
   ]
  },
  {
   "cell_type": "code",
   "execution_count": 4,
   "metadata": {},
   "outputs": [],
   "source": [
    "TARGET = \"Sales\"\n",
    "X = df.drop(TARGET, axis=1).to_numpy()\n",
    "y = df[TARGET]"
   ]
  },
  {
   "cell_type": "code",
   "execution_count": 5,
   "metadata": {},
   "outputs": [
    {
     "data": {
      "image/png": "[encoded data removed]",
      "text/plain": [
       "<Figure size 640x480 with 1 Axes>"
      ]
     },
     "metadata": {},
     "output_type": "display_data"
    }
   ],
   "source": [
    "plt.plot(X, y, 'o')\n",
    "plt.xlabel(\"TV\")\n",
    "plt.ylabel(\"Sales\")\n",
    "plt.show()"
   ]
  },
  {
   "cell_type": "markdown",
   "metadata": {},
   "source": [
    ">   The goal here is to predict the \"Sales\" variable (y) given the \"TV\" variable (X).\n",
    "\n",
    "\n",
    ">   For that, we'll fit the best line to our data points that minimizes the cummulated squared residual loss.\n",
    "    \n",
    ">   In other words, we need to find the best parameters: w (weight), b (bias) such that y ~ w * X + b"
   ]
  },
  {
   "cell_type": "markdown",
   "metadata": {},
   "source": [
    "# ⚒️ Preprocessing"
   ]
  },
  {
   "cell_type": "code",
   "execution_count": 6,
   "metadata": {},
   "outputs": [],
   "source": [
    "from sklearn.model_selection import train_test_split\n",
    "from sklearn.preprocessing import MinMaxScaler\n",
    "\n",
    "X_train, X_test, y_train, y_test = train_test_split(X, y, test_size = 0.2, random_state = 42)\n",
    "scaler = MinMaxScaler()\n",
    "X_train = scaler.fit_transform(X_train)\n",
    "X_test = scaler.transform(X_test)"
   ]
  },
  {
   "cell_type": "markdown",
   "metadata": {},
   "source": [
    "# ⚙️ Custom Linear Regression Implementation"
   ]
  },
  {
   "cell_type": "markdown",
   "metadata": {},
   "source": [
    "We'll use Stocastic Gradient Descent (SGD) to minimize the cost function, that is the sum of the squares of the residuals."
   ]
  },
  {
   "cell_type": "markdown",
   "metadata": {},
   "source": [
    "# 📐 Linear Regression Formulas\n",
    "\n",
    "In linear regression, we aim to model the relationship between a dependent variable \\( y \\) and one or more independent variables \\( X \\). The goal is to find the best-fitting line that minimizes the error between the predicted values and the actual values.\n",
    "\n",
    "## Hypothesis Function\n",
    "\n",
    "The hypothesis function for linear regression is given by:\n",
    "\n",
    "$$ \\hat{y} = w \\cdot X + b $$\n",
    "\n",
    "where:\n",
    "- \\( \\hat{y} \\) is the predicted value\n",
    "- \\( w \\) is the weight (coefficient)\n",
    "- \\( X \\) is the input feature(s)\n",
    "- \\( b \\) is the bias (intercept)\n",
    "\n",
    "## Cost Function\n",
    "\n",
    "The cost function used to measure the error of the model is the Mean Squared Error (MSE):\n",
    "\n",
    "$$ J(w, b) = \\frac{1}{n} \\sum_{i=1}^{n} (\\hat{y}_i - y_i)^2 $$\n",
    "\n",
    "where:\n",
    "- \\( J(w, b) \\) is the cost function\n",
    "- \\( n \\) is the number of samples\n",
    "- \\( \\hat{y}_i \\) is the predicted value for the \\(i\\)-th sample\n",
    "- \\( y_i \\) is the actual value for the \\(i\\)-th sample\n",
    "\n",
    "## Gradient Descent\n",
    "\n",
    "To minimize the cost function, we use gradient descent. The update rules for the weights and bias are:\n",
    "\n",
    "$$ w := w - \\alpha \\frac{\\partial J(w, b)}{\\partial w} $$  \n",
    "$$ b := b - \\alpha \\frac{\\partial J(w, b)}{\\partial b} $$\n",
    "\n",
    "where:\n",
    "- \\( \\alpha \\) is the learning rate\n",
    "\n",
    "The partial derivatives of the cost function with respect to \\( w \\) and \\( b \\) are:\n",
    "\n",
    "$$ \\frac{\\partial J(w, b)}{\\partial w} = \\frac{1}{n} \\sum_{i=1}^{n} 2 (\\hat{y}_i - y_i) X_i $$\n",
    "\n",
    "$$ \\frac{\\partial J(w, b)}{\\partial b} = \\frac{1}{n} \\sum_{i=1}^{n} 2 (\\hat{y}_i - y_i) $$\n",
    "\n",
    "## Regularization (Optional)\n",
    "\n",
    "To prevent overfitting, we can add a regularization term to the cost function. For L2 regularization (Ridge), the cost function becomes:\n",
    "\n",
    "$$ J(w, b) = \\frac{1}{n} \\sum_{i=1}^{n} (\\hat{y}_i - y_i)^2 + \\lambda \\sum_{j=1}^{m} w_j^2 $$\n",
    "\n",
    "where:\n",
    "- \\( \\lambda \\) is the regularization parameter\n",
    "- \\( m \\) is the number of features\n",
    "\n",
    "The gradient update rule with L2 regularization is:\n",
    "\n",
    "$$ w := w - \\frac{\\alpha}{n} \\left( \\sum_{i=1}^{n} 2 (\\hat{y}_i - y_i) X_i + 2 \\lambda w \\right) $$\n"
   ]
  },
  {
   "cell_type": "code",
   "execution_count": 7,
   "metadata": {},
   "outputs": [],
   "source": [
    "# You'll also find this code in the \"linear_regression.py\" file\n",
    "\n",
    "class LinearRegression:\n",
    "\n",
    "    def __init__(self, lr = 0.001, n_iters = 10000, lambd = 0):\n",
    "        \n",
    "        self.lr = lr\n",
    "        self.n_iters = n_iters\n",
    "        self.lambd = lambd\n",
    "\n",
    "        self.weights = None\n",
    "        self.bias = None\n",
    "        self.weights_gradient = None\n",
    "        self.bias_gradient = None\n",
    "\n",
    "        self.n_samples = None\n",
    "        self.n_feats = None\n",
    "\n",
    "\n",
    "        self.is_fitted = False\n",
    "\n",
    "    def _init_weights(self):\n",
    "        self.weights = np.random.rand(self.n_feats)\n",
    "        self.bias = np.random.rand(1)\n",
    "        self.weights_gradient = np.empty(self.n_feats)\n",
    "\n",
    "    \n",
    "    def get_weights(self):\n",
    "        return self.weights, self.bias\n",
    "\n",
    "\n",
    "    def fit(self, X, y):\n",
    "\n",
    "        assert len(X) == len(y), \"X and y must have the same number of samples\"\n",
    "        if len(X.shape) > 1:\n",
    "            self.n_samples, self.n_feats = X.shape\n",
    "        else:\n",
    "            self.n_samples = len(X)\n",
    "            self.n_feats = 1\n",
    "            X = X[:, np.newaxis]\n",
    "\n",
    "\n",
    "        self._init_weights()\n",
    "        self.weights\n",
    "\n",
    "        for i in range(self.n_iters + 1):\n",
    "\n",
    "            y_hat = self.predict(X)\n",
    "            cost = sum((y_hat - y) ** 2)\n",
    "            if i % 1000 == 0:\n",
    "                print(f\"Iter: {i}. Total Cost: {cost}. MSE: {cost / self.n_samples}\")\n",
    "\n",
    "            \n",
    "            self.weights_gradient = np.matmul(2 * (y_hat - y), X) / self.n_samples\n",
    "            # optional l2 (Ridge) regularization term\n",
    "            self.weights_gradient = self.weights_gradient + self.lambd * (2 * self.weights) / self.n_samples \n",
    "            self.bias_gradient = sum(2 * (y_hat - y)) / self.n_samples\n",
    "\n",
    "            self.weights = self.weights - self.lr * self.weights_gradient\n",
    "            self.bias = self.bias - self.lr * self.bias_gradient\n",
    "\n",
    "\n",
    "        self.is_fitted = True\n",
    "\n",
    "    \n",
    "    def predict(self, X):\n",
    "        if len(X.shape) == 1:\n",
    "            X = X[:, np.newaxis]\n",
    "        return np.matmul(X, self.weights) + self.bias\n",
    "    \n",
    "\n",
    "    def score(self, y_true, y_pred):\n",
    "\n",
    "        mae = np.mean(np.abs(y_pred - y_true)).item()\n",
    "        mse = np.mean((y_pred - y_true) ** 2).item()\n",
    "        rmse = np.sqrt(mse).item()\n",
    "\n",
    "        return {\n",
    "            \"mae\": mae,\n",
    "            \"mse\": mse,\n",
    "            \"rmse\": rmse\n",
    "        }"
   ]
  },
  {
   "cell_type": "markdown",
   "metadata": {},
   "source": [
    "# 🚂 Fitting the model"
   ]
  },
  {
   "cell_type": "code",
   "execution_count": 8,
   "metadata": {},
   "outputs": [
    {
     "name": "stdout",
     "output_type": "stream",
     "text": [
      "Iter: 0. Total Cost: 33217.841659859245. MSE: 207.6115103741203\n",
      "Iter: 1000. Total Cost: 2374.962369007241. MSE: 14.843514806295255\n",
      "Iter: 2000. Total Cost: 2077.0071320122825. MSE: 12.981294575076765\n",
      "Iter: 3000. Total Cost: 1990.5915056583094. MSE: 12.441196910364434\n",
      "Iter: 4000. Total Cost: 1924.4881030922802. MSE: 12.02805064432675\n",
      "Iter: 5000. Total Cost: 1873.2509025776722. MSE: 11.707818141110451\n",
      "Iter: 6000. Total Cost: 1833.532430484195. MSE: 11.459577690526219\n",
      "Iter: 7000. Total Cost: 1802.7431149712077. MSE: 11.267144468570049\n",
      "Iter: 8000. Total Cost: 1778.875581654943. MSE: 11.117972385343394\n",
      "Iter: 9000. Total Cost: 1760.3737365459758. MSE: 11.00233585341235\n",
      "Iter: 10000. Total Cost: 1746.0313129741571. MSE: 10.912695706088481\n"
     ]
    }
   ],
   "source": [
    "regr = LinearRegression()\n",
    "regr.fit(X_train, y_train)"
   ]
  },
  {
   "cell_type": "code",
   "execution_count": 9,
   "metadata": {},
   "outputs": [
    {
     "name": "stdout",
     "output_type": "stream",
     "text": [
      "Weight(s): [11.81962272]. Bias: [8.19803025]\n"
     ]
    }
   ],
   "source": [
    "weights, bias = regr.get_weights()\n",
    "print(f\"Weight(s): {weights}. Bias: {bias}\")"
   ]
  },
  {
   "cell_type": "code",
   "execution_count": 10,
   "metadata": {},
   "outputs": [
    {
     "data": {
      "text/plain": [
       "{'mae': 2.61159368064677,\n",
       " 'mse': 11.014549363285608,\n",
       " 'rmse': 3.3188174645927138}"
      ]
     },
     "execution_count": 10,
     "metadata": {},
     "output_type": "execute_result"
    }
   ],
   "source": [
    "preds = regr.predict(X_test)\n",
    "eval_metrics = regr.score(y_true = y_test,\n",
    "                          y_pred = preds)\n",
    "eval_metrics"
   ]
  },
  {
   "cell_type": "markdown",
   "metadata": {},
   "source": [
    "# 🗺️ Visualizing our predictions"
   ]
  },
  {
   "cell_type": "code",
   "execution_count": 11,
   "metadata": {},
   "outputs": [
    {
     "data": {
      "image/png": "[encoded data removed]",
      "text/plain": [
       "<Figure size 1500x800 with 2 Axes>"
      ]
     },
     "metadata": {},
     "output_type": "display_data"
    }
   ],
   "source": [
    "y_train_preds = regr.predict(X_train)\n",
    "y_test_preds = regr.predict(X_test)\n",
    "\n",
    "plt.figure(figsize = (15, 8))\n",
    "\n",
    "plt.subplot(1, 2, 1)\n",
    "plt.scatter(X_train, y_train, c=\"b\")\n",
    "plt.plot(X_train, y_train_preds, c=\"r\")\n",
    "plt.xlabel(\"TV\")\n",
    "plt.ylabel(\"Sales\")\n",
    "plt.title(\"TRAIN\")\n",
    "\n",
    "plt.subplot(1, 2, 2)\n",
    "plt.scatter(X_test, y_test, c=\"b\")\n",
    "plt.plot(X_test, y_test_preds, c=\"r\")\n",
    "plt.xlabel(\"TV\")\n",
    "plt.ylabel(\"Sales\")\n",
    "plt.title(\"TEST\")\n",
    "\n",
    "plt.show();"
   ]
  },
  {
   "cell_type": "markdown",
   "metadata": {},
   "source": [
    "Done 🙌"
   ]
  },
  {
   "cell_type": "markdown",
   "metadata": {},
   "source": []
  }
 ],
 "metadata": {
  "kernelspec": {
   "display_name": "Python 3",
   "language": "python",
   "name": "python3"
  },
  "language_info": {
   "codemirror_mode": {
    "name": "ipython",
    "version": 3
   },
   "file_extension": ".py",
   "mimetype": "text/x-python",
   "name": "python",
   "nbconvert_exporter": "python",
   "pygments_lexer": "ipython3",
   "version": "3.12.1"
  }
 },
 "nbformat": 4,
 "nbformat_minor": 2
}
